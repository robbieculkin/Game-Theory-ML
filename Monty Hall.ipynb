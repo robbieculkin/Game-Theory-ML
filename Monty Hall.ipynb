{
 "cells": [
  {
   "cell_type": "markdown",
   "metadata": {},
   "source": [
    "# Monty Hall problem\n",
    "The Monty Hall problem, based on the TV show *Let's Make a Deal* hosted by Monty Hall, involves some counterintuitive logic. Contestants on the show are asked to choose one of three doors. Behind one of the doors is a prize, and behind the other two doors is nothing. After a contestant chooses a door, the host reveals one of the other doors that does not contain a prize. The contestant is then asked if they'd like to switch their choice to the other remaining door. Below, I evaluate whether it is optimal for a contestant to switch.\n",
    "\n",
    "More info here: https://www.montyhallproblem.com"
   ]
  },
  {
   "cell_type": "code",
   "execution_count": 1,
   "metadata": {
    "collapsed": true
   },
   "outputs": [],
   "source": [
    "import random"
   ]
  },
  {
   "cell_type": "code",
   "execution_count": 2,
   "metadata": {
    "collapsed": true
   },
   "outputs": [],
   "source": [
    "def monty_hall(switch, games):\n",
    "    wins = 0\n",
    "    for ii in range(games):\n",
    "        doors = [1,2,3]\n",
    "        random.shuffle(doors)\n",
    "        \n",
    "        winner = random.choice(doors)\n",
    "        user =   random.choice(doors)\n",
    "\n",
    "        for door in doors:\n",
    "            if door != user and door != winner:\n",
    "                doors.remove(door)\n",
    "                break\n",
    "\n",
    "        if switch:\n",
    "            user = [d for d in doors if d != user][0]\n",
    "\n",
    "        if user == winner:\n",
    "            wins += 1\n",
    "    return wins/games"
   ]
  },
  {
   "cell_type": "code",
   "execution_count": 3,
   "metadata": {},
   "outputs": [
    {
     "data": {
      "text/plain": [
       "0.666763"
      ]
     },
     "execution_count": 3,
     "metadata": {},
     "output_type": "execute_result"
    }
   ],
   "source": [
    "monty_hall(True, 1000000)"
   ]
  },
  {
   "cell_type": "code",
   "execution_count": 4,
   "metadata": {},
   "outputs": [
    {
     "data": {
      "text/plain": [
       "0.334143"
      ]
     },
     "execution_count": 4,
     "metadata": {},
     "output_type": "execute_result"
    }
   ],
   "source": [
    "monty_hall(False,1000000)"
   ]
  },
  {
   "cell_type": "markdown",
   "metadata": {
    "collapsed": true
   },
   "source": [
    "# Conclusion\n",
    "As shown iteratively, contestants who switch have a $\\frac{2}{3}$ chance of winning, while those who don't only have $\\frac{1}{3}$ chance of winning."
   ]
  },
  {
   "cell_type": "code",
   "execution_count": null,
   "metadata": {
    "collapsed": true
   },
   "outputs": [],
   "source": []
  }
 ],
 "metadata": {
  "kernelspec": {
   "display_name": "Python [conda env:py36]",
   "language": "python",
   "name": "conda-env-py36-py"
  },
  "language_info": {
   "codemirror_mode": {
    "name": "ipython",
    "version": 3
   },
   "file_extension": ".py",
   "mimetype": "text/x-python",
   "name": "python",
   "nbconvert_exporter": "python",
   "pygments_lexer": "ipython3",
   "version": "3.6.4"
  },
  "toc": {
   "nav_menu": {},
   "number_sections": true,
   "sideBar": true,
   "skip_h1_title": false,
   "title_cell": "Table of Contents",
   "title_sidebar": "Contents",
   "toc_cell": false,
   "toc_position": {},
   "toc_section_display": true,
   "toc_window_display": false
  }
 },
 "nbformat": 4,
 "nbformat_minor": 2
}
