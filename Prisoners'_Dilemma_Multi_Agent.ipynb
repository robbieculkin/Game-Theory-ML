{
 "cells": [
  {
   "cell_type": "markdown",
   "metadata": {},
   "source": [
    "# Multiagent reinforcement learning:\n",
    "## Finding the Nash Equilibrium in Prisoners' Dilemma \n",
    "\n",
    "Robbie Culkin\n",
    "\n",
    "Watch this Khan Academy clip for a lesson in game theory and a great description of the problem:\n",
    "[Khan Academy video on Prisoners' Dilemma](https://youtu.be/UkXI-zPcDIM)\n",
    "\n",
    "TL;DW: 2 prisoners, each has the choice to confess or deny a crime that they committed together. If both prisoners confess, they both serve 3 years in prison. If neither confess, they each serve 2 years. If one confesses and the other denies, the snitch serves 1 year while the holdout serves 10. Neither prisoner knows what the other prisoner will do.\n",
    "\n",
    "\n",
    "This table, drawn by Sal Khan, maps out the Prisoners' Dilemma:\n",
    "\n",
    "<img src=\"p_dilemma.png\">\n",
    "\n",
    "As explained in the video, Nash's Equilibrium tells us that the optimal choice in this situation is to confess.\n",
    "\n",
    "In this notebook I'll develop an iterative Q-learner that arrives at the same conclusion by pitting two non-cooperative agents against each other."
   ]
  },
  {
   "cell_type": "code",
   "execution_count": 1,
   "metadata": {},
   "outputs": [
    {
     "name": "stdout",
     "output_type": "stream",
     "text": [
      "Populating the interactive namespace from numpy and matplotlib\n"
     ]
    }
   ],
   "source": [
    "%pylab inline"
   ]
  },
  {
   "cell_type": "markdown",
   "metadata": {},
   "source": [
    "### Define the sentencing function\n",
    "Now, both prisoners learn iteratively, so we'll leave the opponent's choice until later."
   ]
  },
  {
   "cell_type": "code",
   "execution_count": 2,
   "metadata": {
    "collapsed": true
   },
   "outputs": [],
   "source": [
    "# 0 -> deny\n",
    "# 1 -> confess\n",
    "\n",
    "# return value: years sentenced to prison (self, opponent)\n",
    "# learner seeks to minimize this function, but is unaware of its rules\n",
    "def sentence(choice, opponent_choice): \n",
    "    if choice == 1:\n",
    "        if opponent_choice == 1:\n",
    "            return (3,3)\n",
    "        if opponent_choice == 0:\n",
    "            return (1,10)\n",
    "        \n",
    "    elif choice == 0:\n",
    "        if opponent_choice == 1:\n",
    "            return (10,1)\n",
    "        if opponent_choice == 0:\n",
    "            return (2,2)"
   ]
  },
  {
   "cell_type": "markdown",
   "metadata": {},
   "source": [
    "## Q Table\n",
    "\n",
    "The Bellman equation: \n",
    "\n",
    "$Q_{i+1}(s,a) = r + γ(max(Q_i(s,a))$\n",
    "\n",
    "Our problem is slightly different:\n",
    "* Only one possible state\n",
    "* Our reward function is really a punishment function, so we seek to minimize it\n",
    "\n",
    "So our new $Q$ function looks like this:\n",
    "\n",
    "$Q_{i+1}(a) = r $, where $r = \\frac{sentence_{max} - sentence_i}{sentence_{max}}$\n",
    "\n",
    "Pretty simple! I'll also use a learning rate to scale back changes to Q and an epsilon value for exploration. For more on those topics look [here](https://studywolf.wordpress.com/2012/11/25/reinforcement-learning-q-learning-and-exploration/)."
   ]
  },
  {
   "cell_type": "code",
   "execution_count": 3,
   "metadata": {
    "collapsed": true
   },
   "outputs": [],
   "source": [
    "Q1 = np.zeros(2) # 2 possible actions, only one possible state\n",
    "Q2 = np.zeros(2)\n",
    "\n",
    "# hyperparameters \n",
    "lr = .01                       #learning rate\n",
    "n_episodes = 5000             #number of training iterations\n",
    "epsilon = 0.5                 #exploration\n",
    "Q1s = np.zeros([n_episodes,2])\n",
    "Q2s = np.zeros([n_episodes,2])\n",
    "max_sentence = 10.0\n",
    "\n",
    "for i in range(n_episodes):    \n",
    "    # Choose an action, with noise that tapers over episodes   \n",
    "    if random.random() < epsilon:\n",
    "        a1 = np.argmax(np.random.randn(1,len(Q1)))#*(1./(i+1)))\n",
    "        a2 = np.argmax(np.random.randn(1,len(Q2)))#*(1./(i+1))) \n",
    "    else:\n",
    "        a1 = np.argmax(Q1 + np.random.randn(1,len(Q1))*(1./(i+1)))\n",
    "        a2 = np.argmax(Q2 + np.random.randn(1,len(Q2))*(1./(i+1)))\n",
    "    \n",
    "    # determine a sentence based on the action\n",
    "    r1 = (max_sentence - sentence(a1,a2)[0])/max_sentence\n",
    "    r2 = (max_sentence - sentence(a1,a2)[1])/max_sentence\n",
    "    \n",
    "    #update Q table based on which of the new input           \n",
    "    Q1[a1] = Q1[a1] + lr*(r1 - Q1[a1])\n",
    "    Q2[a2] = Q2[a2] + lr*(r2 - Q2[a2])\n",
    "    \n",
    "    Q1s[i] = Q1\n",
    "    Q2s[i] = Q2"
   ]
  },
  {
   "cell_type": "code",
   "execution_count": 4,
   "metadata": {},
   "outputs": [
    {
     "name": "stdout",
     "output_type": "stream",
     "text": [
      "[ 0.45055575  0.73385937]\n",
      "[ 0.42234453  0.72938503]\n"
     ]
    }
   ],
   "source": [
    "print Q1 #probability of choosing [0,1] aka [P(deny), P(confess)]\n",
    "print Q2"
   ]
  },
  {
   "cell_type": "code",
   "execution_count": 5,
   "metadata": {},
   "outputs": [
    {
     "data": {
      "text/plain": [
       "<matplotlib.legend.Legend at 0x105d57bd0>"
      ]
     },
     "execution_count": 5,
     "metadata": {},
     "output_type": "execute_result"
    },
    {
     "data": {
      "image/png": "[encoded data removed]",
      "text/plain": [
       "<matplotlib.figure.Figure at 0x104015250>"
      ]
     },
     "metadata": {},
     "output_type": "display_data"
    }
   ],
   "source": [
    "plot(xrange(n_episodes), Q1s.T[0])\n",
    "plot(xrange(n_episodes), Q1s.T[1])\n",
    "\n",
    "plot(xrange(n_episodes), Q2s.T[0])\n",
    "plot(xrange(n_episodes), Q2s.T[1])\n",
    "\n",
    "legend(['deny 1','confess 1','deny 2','confess 2'])"
   ]
  },
  {
   "cell_type": "markdown",
   "metadata": {},
   "source": [
    "The two agents iteratively learn to confess, arriving at the *Nash Equilibrium*."
   ]
  },
  {
   "cell_type": "code",
   "execution_count": null,
   "metadata": {
    "collapsed": true
   },
   "outputs": [],
   "source": []
  }
 ],
 "metadata": {
  "kernelspec": {
   "display_name": "Python [conda root]",
   "language": "python",
   "name": "conda-root-py"
  },
  "language_info": {
   "codemirror_mode": {
    "name": "ipython",
    "version": 2
   },
   "file_extension": ".py",
   "mimetype": "text/x-python",
   "name": "python",
   "nbconvert_exporter": "python",
   "pygments_lexer": "ipython2",
   "version": "2.7.13"
  }
 },
 "nbformat": 4,
 "nbformat_minor": 2
}
